








        


<html>
    <head>
        <META HTTP-EQUIV="expires" CONTENT="0">
    </head>
    <body>

        <form method="POST" enctype="application/x-www-form-urlencoded" action="/nidp/idff/sso?id=HITUserPassword&sid=1&option=credential&sid=1&target=https%3A%2F%2Fmd.hit.ac.il%2Flogin%2Findex.php"></form>

        <script language="JavaScript">
            <!--
                document.forms[0].submit();
            -->
        </script>
    </body>
</html>


 